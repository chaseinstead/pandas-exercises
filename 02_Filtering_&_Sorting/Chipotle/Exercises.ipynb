{
 "cells": [
  {
   "cell_type": "markdown",
   "metadata": {},
   "source": [
    "# Ex1 - Filtering and Sorting Data"
   ]
  },
  {
   "cell_type": "markdown",
   "metadata": {},
   "source": [
    "This time we are going to pull data directly from the internet.\n",
    "Special thanks to: https://github.com/justmarkham for sharing the dataset and materials.\n",
    "\n",
    "### Step 1. Import the necessary libraries"
   ]
  },
  {
   "cell_type": "code",
   "execution_count": 3,
   "metadata": {},
   "outputs": [],
   "source": [
    "import numpy as np\n",
    "import pandas as pd"
   ]
  },
  {
   "cell_type": "markdown",
   "metadata": {},
   "source": [
    "### Step 2. Import the dataset from this [address](https://raw.githubusercontent.com/justmarkham/DAT8/master/data/chipotle.tsv). "
   ]
  },
  {
   "cell_type": "markdown",
   "metadata": {},
   "source": [
    "### Step 3. Assign it to a variable called chipo."
   ]
  },
  {
   "cell_type": "code",
   "execution_count": 70,
   "metadata": {},
   "outputs": [],
   "source": [
    "chipo = pd.read_csv(\"https://raw.githubusercontent.com/justmarkham/DAT8/master/data/chipotle.tsv\", sep=\"\\t\")"
   ]
  },
  {
   "cell_type": "markdown",
   "metadata": {},
   "source": [
    "### Step 4. How many products cost more than $10.00?"
   ]
  },
  {
   "cell_type": "code",
   "execution_count": 72,
   "metadata": {},
   "outputs": [
    {
     "name": "stdout",
     "output_type": "stream",
     "text": [
      "      order_id  quantity              item_name  \\\n",
      "5            3         1           Chicken Bowl   \n",
      "7            4         1          Steak Burrito   \n",
      "23          12         1        Chicken Burrito   \n",
      "39          19         1          Barbacoa Bowl   \n",
      "57          26         1         Veggie Burrito   \n",
      "62          28         1            Veggie Bowl   \n",
      "79          35         1     Chicken Soft Tacos   \n",
      "90          40         1             Steak Bowl   \n",
      "93          41         1       Carnitas Burrito   \n",
      "97          43         1          Carnitas Bowl   \n",
      "130         57         1       Barbacoa Burrito   \n",
      "168         75         1  Barbacoa Crispy Tacos   \n",
      "186         83         1      Veggie Salad Bowl   \n",
      "250        109         1          Chicken Salad   \n",
      "365        158         1   Chicken Crispy Tacos   \n",
      "606        250         1       Steak Salad Bowl   \n",
      "738        304         1      Veggie Soft Tacos   \n",
      "988        406         1    Barbacoa Soft Tacos   \n",
      "1008       413         1  Carnitas Crispy Tacos   \n",
      "1132       468         1    Carnitas Salad Bowl   \n",
      "1189       488         1     Chicken Salad Bowl   \n",
      "1229       501         1    Barbacoa Salad Bowl   \n",
      "1353       552         1       Steak Soft Tacos   \n",
      "1963       793         1    Carnitas Soft Tacos   \n",
      "2231       899         1     Steak Crispy Tacos   \n",
      "\n",
      "                                     choice_description  item_price  \n",
      "5     [Fresh Tomato Salsa (Mild), [Rice, Cheese, Sou...       10.98  \n",
      "7     [Tomatillo Red Chili Salsa, [Fajita Vegetables...       11.75  \n",
      "23    [[Tomatillo-Green Chili Salsa (Medium), Tomati...       10.98  \n",
      "39    [Roasted Chili Corn Salsa, [Fajita Vegetables,...       11.75  \n",
      "57    [Tomatillo Red Chili Salsa, [Fajita Vegetables...       11.25  \n",
      "62    [Fresh Tomato Salsa, [Fajita Vegetables, Rice,...       11.25  \n",
      "79    [Roasted Chili Corn Salsa, [Rice, Cheese, Lett...       11.25  \n",
      "90    [Fresh Tomato Salsa, [Rice, Black Beans, Chees...       11.75  \n",
      "93    [Roasted Chili Corn Salsa, [Sour Cream, Guacam...       11.75  \n",
      "97    [Fresh Tomato Salsa, [Fajita Vegetables, Rice,...       11.75  \n",
      "130   [Roasted Chili Corn Salsa, [Rice, Pinto Beans,...       11.75  \n",
      "168   [Tomatillo Red Chili Salsa, [Rice, Black Beans...       11.75  \n",
      "186   [Fresh Tomato Salsa, [Fajita Vegetables, Rice,...       11.25  \n",
      "250   [Roasted Chili Corn Salsa (Medium), [Black Bea...       10.98  \n",
      "365   [Tomatillo Green Chili Salsa, [Black Beans, Ch...       11.25  \n",
      "606   [Fresh Tomato Salsa, [Pinto Beans, Cheese, Gua...       11.89  \n",
      "738   [Tomatillo Red Chili Salsa, [Fajita Vegetables...       11.25  \n",
      "988   [Tomatillo Red Chili Salsa, [Black Beans, Chee...       11.75  \n",
      "1008  [Tomatillo Green Chili Salsa, [Rice, Black Bea...       11.75  \n",
      "1132  [Fresh Tomato Salsa, [Rice, Black Beans, Chees...       11.89  \n",
      "1189  [Fresh Tomato Salsa, [Fajita Vegetables, Rice,...       11.25  \n",
      "1229  [Fresh Tomato Salsa, [Rice, Fajita Vegetables,...       11.89  \n",
      "1353  [Tomatillo Green Chili Salsa, [Fajita Vegetabl...       11.75  \n",
      "1963      [Fresh Tomato Salsa, [Sour Cream, Guacamole]]       11.75  \n",
      "2231                    [Fresh Tomato Salsa, Guacamole]       11.75  \n",
      "25\n"
     ]
    }
   ],
   "source": [
    "items_over_10 = chipo.loc[chipo['item_price'] >= 10]\n",
    "\n",
    "uniques = items_over_10.loc[items_over_10['quantity'] == 1]\n",
    "\n",
    "final = uniques.drop_duplicates(['item_name'])\n",
    "\n",
    "print(final)\n",
    "print(len(final)) # wrong! still working on understanding why exactly..."
   ]
  },
  {
   "cell_type": "code",
   "execution_count": 71,
   "metadata": {},
   "outputs": [
    {
     "name": "stdout",
     "output_type": "stream",
     "text": [
      "10\n"
     ]
    }
   ],
   "source": [
    "# clean the item_price column and transform it in a float\n",
    "prices = [float(value[1 : -1]) for value in chipo.item_price] # comment: no. it's already a float\n",
    "\n",
    "# reassign the column with the cleaned prices\n",
    "chipo.item_price = prices # can also be omitted\n",
    "\n",
    "a = chipo.drop_duplicates(['item_name'])\n",
    "\n",
    "chipo_one_prod = a[a.quantity == 1]\n",
    "\n",
    "b = chipo_one_prod[chipo_one_prod['item_price']>10.0].item_name.nunique()\n",
    "print(b)"
   ]
  },
  {
   "cell_type": "markdown",
   "metadata": {},
   "source": [
    "### Step 5. What is the price of each item? \n",
    "###### print a data frame with only two columns item_name and item_price"
   ]
  },
  {
   "cell_type": "code",
   "execution_count": 80,
   "metadata": {},
   "outputs": [
    {
     "name": "stdout",
     "output_type": "stream",
     "text": [
      "                                  item_name  quantity  item_price\n",
      "0              Chips and Fresh Tomato Salsa         1        2.39\n",
      "1                                      Izze         1        3.39\n",
      "2                          Nantucket Nectar         1        3.39\n",
      "3     Chips and Tomatillo-Green Chili Salsa         1        2.39\n",
      "4                              Chicken Bowl         2       16.98\n",
      "5                              Chicken Bowl         1       10.98\n",
      "6                             Side of Chips         1        1.69\n",
      "7                             Steak Burrito         1       11.75\n",
      "8                          Steak Soft Tacos         1        9.25\n",
      "9                             Steak Burrito         1        9.25\n",
      "10                      Chips and Guacamole         1        4.45\n",
      "11                     Chicken Crispy Tacos         1        8.75\n",
      "12                       Chicken Soft Tacos         1        8.75\n",
      "13                             Chicken Bowl         1       11.25\n",
      "14                      Chips and Guacamole         1        4.45\n",
      "15    Chips and Tomatillo-Green Chili Salsa         1        2.39\n",
      "16                          Chicken Burrito         1        8.49\n",
      "17                          Chicken Burrito         1        8.49\n",
      "18                              Canned Soda         2        2.18\n",
      "19                             Chicken Bowl         1        8.75\n",
      "20                      Chips and Guacamole         1        4.45\n",
      "21                         Barbacoa Burrito         1        8.99\n",
      "22                         Nantucket Nectar         1        3.39\n",
      "23                          Chicken Burrito         1       10.98\n",
      "24                                     Izze         1        3.39\n",
      "25             Chips and Fresh Tomato Salsa         1        2.39\n",
      "26                             Chicken Bowl         1        8.49\n",
      "27                         Carnitas Burrito         1        8.99\n",
      "28                              Canned Soda         1        1.09\n",
      "29                          Chicken Burrito         1        8.49\n",
      "...                                     ...       ...         ...\n",
      "4592                       Barbacoa Burrito         1       11.75\n",
      "4593                          Carnitas Bowl         1       11.75\n",
      "4594                          Barbacoa Bowl         1       11.75\n",
      "4595                           Chicken Bowl         1        8.75\n",
      "4596                    Chips and Guacamole         1        4.45\n",
      "4597                      Canned Soft Drink         1        1.25\n",
      "4598                          Bottled Water         1        1.50\n",
      "4599                           Chicken Bowl         1        8.75\n",
      "4600                    Chips and Guacamole         1        4.45\n",
      "4601                      Canned Soft Drink         1        1.25\n",
      "4602                       Barbacoa Burrito         1        9.25\n",
      "4603                       Barbacoa Burrito         1        9.25\n",
      "4604                           Chicken Bowl         1        8.75\n",
      "4605                    Chips and Guacamole         1        4.45\n",
      "4606                      Canned Soft Drink         1        1.25\n",
      "4607                          Steak Burrito         1       11.75\n",
      "4608                         Veggie Burrito         1       11.25\n",
      "4609                      Canned Soft Drink         1        1.25\n",
      "4610                          Steak Burrito         1       11.75\n",
      "4611                         Veggie Burrito         1       11.25\n",
      "4612                          Carnitas Bowl         1        9.25\n",
      "4613                                  Chips         1        2.15\n",
      "4614                          Bottled Water         1        1.50\n",
      "4615                     Chicken Soft Tacos         1        8.75\n",
      "4616                    Chips and Guacamole         1        4.45\n",
      "4617                          Steak Burrito         1       11.75\n",
      "4618                          Steak Burrito         1       11.75\n",
      "4619                     Chicken Salad Bowl         1       11.25\n",
      "4620                     Chicken Salad Bowl         1        8.75\n",
      "4621                     Chicken Salad Bowl         1        8.75\n",
      "\n",
      "[4622 rows x 3 columns]\n"
     ]
    }
   ],
   "source": [
    "chipo_new = chipo[['item_name', 'quantity', 'item_price']].copy()\n",
    "print(chipo_new)"
   ]
  },
  {
   "cell_type": "markdown",
   "metadata": {},
   "source": [
    "### Step 6. Sort by the name of the item"
   ]
  },
  {
   "cell_type": "code",
   "execution_count": 81,
   "metadata": {},
   "outputs": [
    {
     "name": "stdout",
     "output_type": "stream",
     "text": [
      "              item_name  quantity  item_price\n",
      "3889  Veggie Soft Tacos         2       16.98\n",
      "2851  Veggie Soft Tacos         1        8.49\n",
      "738   Veggie Soft Tacos         1       11.25\n",
      "1395  Veggie Soft Tacos         1        8.49\n",
      "2384  Veggie Soft Tacos         1        8.75\n",
      "1699  Veggie Soft Tacos         1       11.25\n",
      "781   Veggie Soft Tacos         1        8.75\n",
      "4573  Veggie Salad Bowl         1        8.75\n",
      "455   Veggie Salad Bowl         1       11.25\n",
      "496   Veggie Salad Bowl         1       11.25\n",
      "2156  Veggie Salad Bowl         1       11.25\n",
      "2683  Veggie Salad Bowl         1        8.75\n",
      "3293  Veggie Salad Bowl         1        8.75\n",
      "295   Veggie Salad Bowl         1       11.25\n",
      "4109  Veggie Salad Bowl         1       11.25\n",
      "2269  Veggie Salad Bowl         1        8.75\n",
      "1316  Veggie Salad Bowl         1        8.75\n",
      "2223  Veggie Salad Bowl         1        8.75\n",
      "4541  Veggie Salad Bowl         1        8.75\n",
      "3223  Veggie Salad Bowl         1       11.25\n",
      "4261  Veggie Salad Bowl         1       11.25\n",
      "960   Veggie Salad Bowl         1        8.75\n",
      "1884  Veggie Salad Bowl         1       11.25\n",
      "4201  Veggie Salad Bowl         1       11.25\n",
      "186   Veggie Salad Bowl         1       11.25\n",
      "2756       Veggie Salad         1        8.49\n",
      "1694       Veggie Salad         1        8.49\n",
      "3471       Veggie Salad         1        8.49\n",
      "3163       Veggie Salad         1        8.49\n",
      "2996       Veggie Salad         1        8.49\n",
      "...                 ...       ...         ...\n",
      "1976  6 Pack Soft Drink         1        6.49\n",
      "4522  6 Pack Soft Drink         1        6.49\n",
      "3010  6 Pack Soft Drink         1        6.49\n",
      "4535  6 Pack Soft Drink         1        6.49\n",
      "2713  6 Pack Soft Drink         1        6.49\n",
      "2374  6 Pack Soft Drink         1        6.49\n",
      "298   6 Pack Soft Drink         1        6.49\n",
      "3600  6 Pack Soft Drink         1        6.49\n",
      "1026  6 Pack Soft Drink         1        6.49\n",
      "2108  6 Pack Soft Drink         1        6.49\n",
      "1279  6 Pack Soft Drink         1        6.49\n",
      "2793  6 Pack Soft Drink         1        6.49\n",
      "1051  6 Pack Soft Drink         1        6.49\n",
      "3633  6 Pack Soft Drink         1        6.49\n",
      "553   6 Pack Soft Drink         1        6.49\n",
      "3422  6 Pack Soft Drink         1        6.49\n",
      "879   6 Pack Soft Drink         1        6.49\n",
      "1937  6 Pack Soft Drink         1        6.49\n",
      "3693  6 Pack Soft Drink         1        6.49\n",
      "2389  6 Pack Soft Drink         1        6.49\n",
      "4169  6 Pack Soft Drink         1        6.49\n",
      "4174  6 Pack Soft Drink         1        6.49\n",
      "3766  6 Pack Soft Drink         1        6.49\n",
      "1260  6 Pack Soft Drink         1        6.49\n",
      "341   6 Pack Soft Drink         1        6.49\n",
      "1916  6 Pack Soft Drink         1        6.49\n",
      "1124  6 Pack Soft Drink         1        6.49\n",
      "3789  6 Pack Soft Drink         1        6.49\n",
      "1392  6 Pack Soft Drink         1        6.49\n",
      "3614  6 Pack Soft Drink         1        6.49\n",
      "\n",
      "[4622 rows x 3 columns]\n"
     ]
    }
   ],
   "source": [
    "c = chipo_new.sort_values(['item_name'], ascending=False)\n",
    "print(c)"
   ]
  },
  {
   "cell_type": "markdown",
   "metadata": {},
   "source": [
    "### Step 7. What was the quantity of the most expensive item ordered?"
   ]
  },
  {
   "cell_type": "code",
   "execution_count": 93,
   "metadata": {
    "scrolled": true
   },
   "outputs": [
    {
     "name": "stdout",
     "output_type": "stream",
     "text": [
      "15\n"
     ]
    }
   ],
   "source": [
    "most_expensive_item = chipo_new.loc[chipo_new['item_price'].idxmax()]\n",
    "print(most_expensive_item[1])"
   ]
  },
  {
   "cell_type": "markdown",
   "metadata": {},
   "source": [
    "### Step 8. How many times were a Veggie Salad Bowl ordered?"
   ]
  },
  {
   "cell_type": "code",
   "execution_count": 119,
   "metadata": {
    "scrolled": true
   },
   "outputs": [
    {
     "data": {
      "text/plain": [
       "18"
      ]
     },
     "execution_count": 119,
     "metadata": {},
     "output_type": "execute_result"
    }
   ],
   "source": [
    "c = chipo_new.groupby('item_name').sum()\n",
    "\n",
    "c.loc['Veggie Salad Bowl', 'quantity']"
   ]
  },
  {
   "cell_type": "code",
   "execution_count": 120,
   "metadata": {},
   "outputs": [
    {
     "data": {
      "text/plain": [
       "18"
      ]
     },
     "execution_count": 120,
     "metadata": {},
     "output_type": "execute_result"
    }
   ],
   "source": [
    "chipo_salad = chipo[chipo.item_name == \"Veggie Salad Bowl\"]\n",
    "\n",
    "len(chipo_salad)"
   ]
  },
  {
   "cell_type": "markdown",
   "metadata": {},
   "source": [
    "### Step 9. How many times people orderd more than one Canned Soda?"
   ]
  },
  {
   "cell_type": "code",
   "execution_count": 133,
   "metadata": {},
   "outputs": [
    {
     "name": "stdout",
     "output_type": "stream",
     "text": [
      "20\n"
     ]
    }
   ],
   "source": [
    "canned_sodas = chipo[chipo.item_name == \"Canned Soda\"]\n",
    "multiple_canned_sodas = canned_sodas[canned_sodas['quantity']>1]\n",
    "                        \n",
    "print(len(multiple_canned_sodas))"
   ]
  }
 ],
 "metadata": {
  "kernelspec": {
   "display_name": "Python 3",
   "language": "python",
   "name": "python3"
  },
  "language_info": {
   "codemirror_mode": {
    "name": "ipython",
    "version": 3
   },
   "file_extension": ".py",
   "mimetype": "text/x-python",
   "name": "python",
   "nbconvert_exporter": "python",
   "pygments_lexer": "ipython3",
   "version": "3.6.5"
  }
 },
 "nbformat": 4,
 "nbformat_minor": 1
}
